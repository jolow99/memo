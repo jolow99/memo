{
 "cells": [
  {
   "cell_type": "markdown",
   "id": "68c6c812-30cf-4feb-aa5d-a724133cb687",
   "metadata": {},
   "source": [
    "# POMDP (crying baby)\n",
    "\n",
    "This is a memo implementation of a POMDP solver, applied to the [Crying Baby problem](https://algorithmsbook.com/files/appendix-f.pdf).\n",
    "\n",
    "First, let's set up the problem…"
   ]
  },
  {
   "cell_type": "code",
   "execution_count": 1,
   "id": "0f15470b-f869-49a4-8b0b-db46bfe18dae",
   "metadata": {},
   "outputs": [],
   "source": [
    "from memo import memo\n",
    "import jax\n",
    "import jax.numpy as np\n",
    "from functools import cache\n",
    "from enum import IntEnum\n",
    "\n",
    "class S(IntEnum): Hungry = 0; Sated = 1\n",
    "class A(IntEnum): Feed = 0; Sing = 1; Ignore = 2\n",
    "class O(IntEnum): Crying = 0; Quiet = 1\n",
    "\n",
    "# Belief space, discretized into 50 possible belief states\n",
    "B = np.linspace(0, 1, 50)  # P(hungry)\n",
    "\n",
    "@jax.jit\n",
    "def get_belief(b, s):\n",
    "    return np.array([b, 1 - b])[s]\n",
    "\n",
    "@jax.jit\n",
    "def Tr(s, a, s_):\n",
    "    z = np.array([  # P(hungry | s, a)\n",
    "        [0.0, 1.0, 1.0],  # if hungry\n",
    "        [0.0, 0.1, 0.1]   # if sated\n",
    "    ])[s, a]\n",
    "    return np.array([z, 1 - z])[s_]\n",
    "\n",
    "@jax.jit\n",
    "def Obs(o, s, a):\n",
    "    z = np.array([  # P(cry | s, a)\n",
    "        [0.8, 0.9, 0.8],  # if hungry\n",
    "        [0.1, 0.0, 0.1]   # if sated\n",
    "    ])[s, a]\n",
    "    return np.array([z, 1 - z])[o]\n",
    "\n",
    "@jax.jit\n",
    "def R(s, a):\n",
    "    return (\n",
    "        np.array([-10, 0])[s] +\n",
    "        np.array([-5, -0.5, 0])[a]\n",
    "    )"
   ]
  },
  {
   "cell_type": "markdown",
   "id": "d800cb41-d5f7-45f8-8a32-799034209c26",
   "metadata": {},
   "source": [
    "Next, let's write a POMDP solver based on belief-space value iteration."
   ]
  },
  {
   "cell_type": "code",
   "execution_count": 2,
   "id": "d50809e2-0ed6-4168-814e-1fc70e5606e1",
   "metadata": {},
   "outputs": [
    {
     "name": "stdout",
     "output_type": "stream",
     "text": [
      "24.5 ms ± 6.4 ms per loop (mean ± std. dev. of 10 runs, 10 loops each)\n"
     ]
    }
   ],
   "source": [
    "@memo(cache=True)\n",
    "def Q[b: B, a: A](t):\n",
    "    alice: knows(b, a)\n",
    "    alice: thinks[\n",
    "        env: knows(b, a),\n",
    "        env: chooses(s in S, wpp=get_belief(b, s)),\n",
    "        env: chooses(s_ in S, wpp=Tr(s, a, s_)),\n",
    "        env: chooses(o in O, wpp=Obs(o, s_, a))\n",
    "    ]\n",
    "    alice: snapshots_self_as(future_alice)\n",
    "    return alice[ E[R(env.s, a)] + (0.0 if t <= 0 else 0.9 * imagine[\n",
    "        future_alice: observes [env.o] is env.o,\n",
    "        future_alice: chooses(b_ in B, wpp=exp(-100.0 * abs(E[env.s_ == 0] - b_))),\n",
    "        future_alice: chooses(a_ in A, to_maximize=Q[b_, a_](t - 1)),\n",
    "        E[ future_alice[ Q[b_, a_](t - 1) ] ]\n",
    "    ]) ]\n",
    "\n",
    "%timeit -r 10 -n 10 Q.cache_clear(); Q(100).block_until_ready()"
   ]
  },
  {
   "cell_type": "markdown",
   "id": "5a51c7d5-099c-4124-a227-443b13443329",
   "metadata": {},
   "source": [
    "Finally, let's run the solver and make the figure in the paper."
   ]
  },
  {
   "cell_type": "code",
   "execution_count": 3,
   "id": "a3ee437f-9a10-49c7-ad08-ad321b596838",
   "metadata": {},
   "outputs": [
    {
     "data": {
      "image/png": "[encoded data removed]",
      "text/plain": [
       "<Figure size 300x200 with 1 Axes>"
      ]
     },
     "metadata": {},
     "output_type": "display_data"
    }
   ],
   "source": [
    "# Run the solver\n",
    "q = Q(10)\n",
    "v = np.max(q, axis=1, keepdims=True)\n",
    "p = (q == v) * 1.0\n",
    "v = v.squeeze(-1)\n",
    "\n",
    "# Make the figure in the paper\n",
    "from matplotlib import pyplot as plt\n",
    "plt.figure(figsize=(3, 2))\n",
    "plt.plot(B[p[:, 0] == 1], v[p[:, 0] == 1], label='feed')\n",
    "plt.plot(B[p[:, 1] == 1], v[p[:, 1] == 1], ':', label='sing')\n",
    "plt.plot(B[p[:, 2] == 1], v[p[:, 2] == 1], '--', label='ignore')\n",
    "plt.legend()\n",
    "plt.xlabel('Belief state, P(hungry)')\n",
    "plt.ylabel('Long-term reward')\n",
    "plt.title('Crying baby POMDP solution')\n",
    "plt.tight_layout()\n",
    "plt.savefig('../paper/fig/pomdp.pdf')"
   ]
  }
 ],
 "metadata": {
  "kernelspec": {
   "display_name": "Python 3 (ipykernel)",
   "language": "python",
   "name": "python3"
  },
  "language_info": {
   "codemirror_mode": {
    "name": "ipython",
    "version": 3
   },
   "file_extension": ".py",
   "mimetype": "text/x-python",
   "name": "python",
   "nbconvert_exporter": "python",
   "pygments_lexer": "ipython3",
   "version": "3.13.2"
  }
 },
 "nbformat": 4,
 "nbformat_minor": 5
}
