{
 "cells": [
  {
   "cell_type": "markdown",
   "id": "f9a718b6-f4ee-4aab-aea6-e8339720b630",
   "metadata": {},
   "source": [
    "# The Sally-Anne test\n",
    "\n",
    "**Inspired by:** Wimmer, H., & Perner, J. (1983). _Beliefs about beliefs: Representation and constraining function of wrong beliefs in young children's understanding of deception._ Cognition, 13(1), 103-128.\n",
    "\n",
    "Sally sees a marble in a box, then leaves the room. While she is gone, anne secretly moves the marble to a basket. When Sally returns to the room, where will she look for the marble—the box or the basket?"
   ]
  },
  {
   "cell_type": "code",
   "execution_count": 1,
   "id": "448d601a-77a4-413a-9b73-95d6b733af30",
   "metadata": {},
   "outputs": [],
   "source": [
    "from memo import memo\n",
    "import jax.numpy as np\n",
    "import jax\n",
    "from enum import IntEnum"
   ]
  },
  {
   "cell_type": "code",
   "execution_count": 2,
   "id": "e1567f73-5335-41e8-8874-19a793367a26",
   "metadata": {},
   "outputs": [
    {
     "name": "stdout",
     "output_type": "stream",
     "text": [
      "+--------------------+----------+-----------------+----------------------------------------+\n",
      "| marble_pos_t0: Loc | obs: Obs | where_look: Loc | model[marble_pos_t0, obs, where_look]  |\n",
      "+--------------------+----------+-----------------+----------------------------------------+\n",
      "| BOX                | OBS_NONE | BOX             | 0.9900000095367432                     |\n",
      "| BOX                | OBS_NONE | BASKET          | 0.009999999776482582                   |\n",
      "| BOX                | OBS_STAY | BOX             | 1.0                                    |\n",
      "| BOX                | OBS_STAY | BASKET          | 0.0                                    |\n",
      "| BOX                | OBS_MOVE | BOX             | 0.0                                    |\n",
      "| BOX                | OBS_MOVE | BASKET          | 1.0                                    |\n",
      "| BASKET             | OBS_NONE | BOX             | 0.009999999776482582                   |\n",
      "| BASKET             | OBS_NONE | BASKET          | 0.9900000095367432                     |\n",
      "| BASKET             | OBS_STAY | BOX             | 0.0                                    |\n",
      "| BASKET             | OBS_STAY | BASKET          | 1.0                                    |\n",
      "| BASKET             | OBS_MOVE | BOX             | 1.0                                    |\n",
      "| BASKET             | OBS_MOVE | BASKET          | 0.0                                    |\n",
      "+--------------------+----------+-----------------+----------------------------------------+\n"
     ]
    }
   ],
   "source": [
    "class Loc(IntEnum):  # marble's location\n",
    "    BOX = 0\n",
    "    BASKET = 1\n",
    "\n",
    "class Action(IntEnum):  # anne's action on marble\n",
    "    ACT_STAY = 0\n",
    "    ACT_MOVE = 1\n",
    "\n",
    "@jax.jit\n",
    "def do(l, a):  # apply action to marble to get new location\n",
    "    return np.array([\n",
    "        [0, 1],\n",
    "        [1, 0]\n",
    "    ])[a, l]\n",
    "\n",
    "class Obs(IntEnum):  # what sally sees\n",
    "    OBS_NONE = -1  # sees nothing\n",
    "    OBS_STAY = Action.ACT_STAY\n",
    "    OBS_MOVE = Action.ACT_MOVE\n",
    "\n",
    "@memo\n",
    "def model[marble_pos_t0: Loc, obs: Obs, where_look: Loc]():\n",
    "    child: knows(marble_pos_t0, obs, where_look)\n",
    "    child: thinks[\n",
    "        sally: knows(marble_pos_t0, where_look),\n",
    "        sally: thinks[\n",
    "            anne: knows(marble_pos_t0),\n",
    "            anne: chooses(a in Action, wpp=0.01 if a=={Action.ACT_MOVE} else 0.99),\n",
    "            anne: chooses(marble_pos_t1 in Loc, wpp=do(marble_pos_t0, a)==marble_pos_t1),\n",
    "            anne: chooses(o in Obs, wpp=1 if o=={Obs.OBS_NONE} or o==a else 0),\n",
    "        ],\n",
    "        sally: observes [anne.o] is obs,\n",
    "        sally: chooses(where_look in Loc, wpp=Pr[anne.marble_pos_t1 == where_look])\n",
    "    ]\n",
    "    return child[ Pr[sally.where_look == where_look] ]\n",
    "\n",
    "model(print_table=True);"
   ]
  }
 ],
 "metadata": {
  "language_info": {
   "name": "python"
  }
 },
 "nbformat": 4,
 "nbformat_minor": 5
}
