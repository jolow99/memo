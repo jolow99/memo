{
 "cells": [
  {
   "cell_type": "markdown",
   "id": "9393290f-db1c-418c-a116-503a7c194f3c",
   "metadata": {},
   "source": [
    "# The Monty Hall problem\n",
    "\n",
    "In a game show, contestant Alice faces three doors, one of which hides a prize.\n",
    "\n",
    "Alice picks a door, and Monty reveals one of the two other doors that does _not_ hide the prize.\n",
    "\n",
    "Now Alice has the option to keep her current door, or switch to the other not-yet-revealed door. What should she do?"
   ]
  },
  {
   "cell_type": "code",
   "execution_count": 1,
   "id": "a492fbd5-a840-4c16-ab8f-a00e5e434053",
   "metadata": {},
   "outputs": [],
   "source": [
    "from memo import memo\n",
    "import jax\n",
    "import jax.numpy as np\n",
    "\n",
    "Door = np.arange(3)\n",
    "\n",
    "@memo\n",
    "def monty[pick: Door, reveal: Door, d: Door]():\n",
    "    alice: thinks[ monty: chooses(prize in Door, wpp=1) ]\n",
    "    alice: knows(pick)\n",
    "    alice: thinks[\n",
    "        monty: knows(pick),\n",
    "        monty: chooses(reveal in Door, wpp=(reveal != prize and reveal != pick))\n",
    "    ]\n",
    "    alice: observes [monty.reveal] is reveal\n",
    "    alice: knows(d)\n",
    "    return alice[Pr[monty.prize == d]]"
   ]
  },
  {
   "cell_type": "code",
   "execution_count": 2,
   "id": "245f73ab-f1f6-4c97-b7ac-ffe208ab2bc0",
   "metadata": {},
   "outputs": [
    {
     "name": "stdout",
     "output_type": "stream",
     "text": [
      "5.72 μs ± 194 ns per loop (mean ± std. dev. of 10 runs, 100 loops each)\n",
      "If Alice picked door 0 and Monty revealed door 1, then her belief about the prize's location is:\n",
      "p(door 0) = 0.3333333432674408\n",
      "p(door 1) = 0.0\n",
      "p(door 2) = 0.6666666865348816\n"
     ]
    }
   ],
   "source": [
    "z = monty()\n",
    "%timeit -r 10 -n 100 monty().block_until_ready()\n",
    "print(\"If Alice picked door 0 and Monty revealed door 1, then her belief about the prize's location is:\")\n",
    "for d in Door:\n",
    "    print(f'p(door {d}) = {z[0, 1, d]}')"
   ]
  }
 ],
 "metadata": {
  "language_info": {
   "name": "python"
  }
 },
 "nbformat": 4,
 "nbformat_minor": 5
}
