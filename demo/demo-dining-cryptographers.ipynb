{
 "cells": [
  {
   "cell_type": "code",
   "execution_count": 1,
   "id": "3637690b-5a2b-4e66-b3c1-20e12aaf8e76",
   "metadata": {},
   "outputs": [],
   "source": [
    "from memo import memo\n",
    "import jax\n",
    "import jax.numpy as np\n",
    "from enum import IntEnum"
   ]
  },
  {
   "cell_type": "markdown",
   "id": "fefcd158-0281-43c5-a13a-bb67e367280a",
   "metadata": {},
   "source": [
    "This example is taken from the introduction of David Chaum's \"Dining Cryptographers\" problem. Three cryptographers are out for dinner, and learn that their meal was paid for anonymously. It was either paid for by one of the three cryptographers, or by the NSA. To find out whether it was paid for by the NSA — without revealing which cryptographer paid, if it wasn't the NSA — they carry out a protocol involving some coin tossing…\n",
    "\n",
    "Chaum, D. (1988). The dining cryptographers problem: Unconditional sender and recipient untraceability. Journal of cryptology, 1, 65-75."
   ]
  },
  {
   "cell_type": "code",
   "execution_count": 2,
   "id": "0dd33c57-e226-41df-b612-7a443f6460f9",
   "metadata": {},
   "outputs": [],
   "source": [
    "class Bit(IntEnum):\n",
    "    NOT_PAID = 0\n",
    "    PAID = 1\n",
    "\n",
    "class Who(IntEnum):\n",
    "    A_PAID = 0\n",
    "    B_PAID = 1\n",
    "    C_PAID = 2\n",
    "    NSA_PAID = 3"
   ]
  },
  {
   "cell_type": "code",
   "execution_count": 3,
   "id": "7bdd2769-7009-4da1-a7b6-02eab187e8b4",
   "metadata": {},
   "outputs": [
    {
     "data": {
      "text/plain": [
       "Array([[[[[0. , 0. , 0. , 1. ],\n",
       "          [0. , 0.5, 0.5, 0. ]],\n",
       "\n",
       "         [[0. , 0.5, 0.5, 0. ],\n",
       "          [0. , 0. , 0. , 1. ]]],\n",
       "\n",
       "\n",
       "        [[[0. , 0.5, 0.5, 0. ],\n",
       "          [0. , 0. , 0. , 1. ]],\n",
       "\n",
       "         [[0. , 0. , 0. , 1. ],\n",
       "          [0. , 0.5, 0.5, 0. ]]]],\n",
       "\n",
       "\n",
       "\n",
       "       [[[[0. , 0.5, 0.5, 0. ],\n",
       "          [0. , 0. , 0. , 1. ]],\n",
       "\n",
       "         [[0. , 0. , 0. , 1. ],\n",
       "          [0. , 0.5, 0.5, 0. ]]],\n",
       "\n",
       "\n",
       "        [[[0. , 0. , 0. , 1. ],\n",
       "          [0. , 0.5, 0.5, 0. ]],\n",
       "\n",
       "         [[0. , 0.5, 0.5, 0. ],\n",
       "          [0. , 0. , 0. , 1. ]]]]], dtype=float32)"
      ]
     },
     "execution_count": 3,
     "metadata": {},
     "output_type": "execute_result"
    }
   ],
   "source": [
    "@memo\n",
    "def model[a_: Bit, b_: Bit, bx: Bit, cx: Bit, w: Who]():\n",
    "    a: knows(a_, w)\n",
    "    a: thinks[\n",
    "        world: chooses(w in Who, wpp=(w != 0)),\n",
    "        b: chooses(b_ in Bit, wpp=1),\n",
    "        c: chooses(c_ in Bit, wpp=1),\n",
    "\n",
    "        b: knows(world.w, c.c_),\n",
    "        c: knows(world.w, a_),\n",
    "\n",
    "        b: chooses(bx in Bit, wpp=(b_ ^ c.c_ ^ (world.w == 1) == bx)),\n",
    "        c: chooses(cx in Bit, wpp=(c_ ^   a_ ^ (world.w == 2) == cx)),\n",
    "    ]\n",
    "    a: observes [b.b_] is b_\n",
    "    a: observes [b.bx] is bx\n",
    "    a: observes [c.cx] is cx\n",
    "    return a[Pr[world.w == w]]\n",
    "model()"
   ]
  }
 ],
 "metadata": {
  "kernelspec": {
   "display_name": "Python 3 (ipykernel)",
   "language": "python",
   "name": "python3"
  },
  "language_info": {
   "codemirror_mode": {
    "name": "ipython",
    "version": 3
   },
   "file_extension": ".py",
   "mimetype": "text/x-python",
   "name": "python",
   "nbconvert_exporter": "python",
   "pygments_lexer": "ipython3",
   "version": "3.12.4"
  }
 },
 "nbformat": 4,
 "nbformat_minor": 5
}
