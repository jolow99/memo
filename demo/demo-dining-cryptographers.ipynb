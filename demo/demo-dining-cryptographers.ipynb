{
 "cells": [
  {
   "cell_type": "markdown",
   "id": "b9ed40f2-90c7-4bee-815c-1ddda2b31410",
   "metadata": {},
   "source": [
    "# Dining cryptographers\n",
    "\n",
    "**Inspired by:** Chaum, D. (1988). _The dining cryptographers problem: Unconditional sender and recipient untraceability._ Journal of cryptology, 1, 65-75.\n",
    "\n",
    "Three cryptographers are out for dinner. After dessert the waiter informs them that their meal was paid for anonymously. It was either paid for by one of the three cryptographers, or by the NSA. Yikes! To find out whether the bill was paid for by the NSA — without revealing which cryptographer paid, in case it wasn't the NSA — they carry out a protocol involving some coin tossing.\n",
    "\n",
    "Each cryptographer tosses a coin and shows its outcome to their neighbor-to-the-left (hiding the coin behind their menus so the third cryptographer cannot see). Each cryptographer then announces the XOR of (1) their coin, (2) their neighbor's coin, and (3) whether or not they paid. Now, the XOR of all cryptographers' announcements reveals whether the NSA paid, without revealing which cryptographer (if any) paid."
   ]
  },
  {
   "cell_type": "code",
   "execution_count": 1,
   "id": "3637690b-5a2b-4e66-b3c1-20e12aaf8e76",
   "metadata": {},
   "outputs": [],
   "source": [
    "from memo import memo\n",
    "import jax\n",
    "import jax.numpy as np\n",
    "from enum import IntEnum"
   ]
  },
  {
   "cell_type": "code",
   "execution_count": 2,
   "id": "0dd33c57-e226-41df-b612-7a443f6460f9",
   "metadata": {},
   "outputs": [],
   "source": [
    "class Bit(IntEnum):\n",
    "    NOT_PAID = 0\n",
    "    PAID = 1\n",
    "\n",
    "class Who(IntEnum):\n",
    "    A_PAID = 0\n",
    "    B_PAID = 1\n",
    "    C_PAID = 2\n",
    "    NSA_PAID = 3"
   ]
  },
  {
   "cell_type": "markdown",
   "id": "df038c58-09b8-4234-8ce5-7ba3ae114a5d",
   "metadata": {},
   "source": [
    "We will model this from the perspective of cryptographer A (who didn't pay). We will show by computation that no matter how the coins come up and no matter what B and C announce, it is impossible to distinguish between B paying and C paying."
   ]
  },
  {
   "cell_type": "code",
   "execution_count": 3,
   "id": "7bdd2769-7009-4da1-a7b6-02eab187e8b4",
   "metadata": {},
   "outputs": [],
   "source": [
    "@memo\n",
    "def model[a_: Bit, b_: Bit, bx: Bit, cx: Bit, w: Who]():\n",
    "    a: knows(a_, w)\n",
    "    a: thinks[\n",
    "        world: chooses(w in Who, wpp=(w != 0)),\n",
    "        b: chooses(b_ in Bit, wpp=1),\n",
    "        c: chooses(c_ in Bit, wpp=1),\n",
    "\n",
    "        b: knows(world.w, c.c_),\n",
    "        c: knows(world.w, a_),\n",
    "\n",
    "        b: chooses(bx in Bit, wpp=(b_ ^ c.c_ ^ (world.w == 1) == bx)),\n",
    "        c: chooses(cx in Bit, wpp=(c_ ^   a_ ^ (world.w == 2) == cx)),\n",
    "    ]\n",
    "    a: observes [b.b_] is b_\n",
    "    a: observes [b.bx] is bx\n",
    "    a: observes [c.cx] is cx\n",
    "    return a[Pr[world.w == w]]"
   ]
  },
  {
   "cell_type": "markdown",
   "id": "21df0926-ffec-4b40-a3a3-edfc27487241",
   "metadata": {},
   "source": [
    "Let's see what happens."
   ]
  },
  {
   "cell_type": "code",
   "execution_count": 4,
   "id": "f6b28232-8dda-4f45-aa90-907da9be61ea",
   "metadata": {},
   "outputs": [
    {
     "name": "stdout",
     "output_type": "stream",
     "text": [
      "27.9 μs ± 2.33 μs per loop (mean ± std. dev. of 10 runs, 100 loops each)\n",
      "A flips 0, B flips 0, B says 0, C says 0 -> [0. 0. 0. 1.]\n",
      "A flips 0, B flips 0, B says 0, C says 1 -> [0.  0.5 0.5 0. ]\n",
      "A flips 0, B flips 0, B says 1, C says 0 -> [0.  0.5 0.5 0. ]\n",
      "A flips 0, B flips 0, B says 1, C says 1 -> [0. 0. 0. 1.]\n",
      "A flips 0, B flips 1, B says 0, C says 0 -> [0.  0.5 0.5 0. ]\n",
      "A flips 0, B flips 1, B says 0, C says 1 -> [0. 0. 0. 1.]\n",
      "A flips 0, B flips 1, B says 1, C says 0 -> [0. 0. 0. 1.]\n",
      "A flips 0, B flips 1, B says 1, C says 1 -> [0.  0.5 0.5 0. ]\n",
      "A flips 1, B flips 0, B says 0, C says 0 -> [0.  0.5 0.5 0. ]\n",
      "A flips 1, B flips 0, B says 0, C says 1 -> [0. 0. 0. 1.]\n",
      "A flips 1, B flips 0, B says 1, C says 0 -> [0. 0. 0. 1.]\n",
      "A flips 1, B flips 0, B says 1, C says 1 -> [0.  0.5 0.5 0. ]\n",
      "A flips 1, B flips 1, B says 0, C says 0 -> [0. 0. 0. 1.]\n",
      "A flips 1, B flips 1, B says 0, C says 1 -> [0.  0.5 0.5 0. ]\n",
      "A flips 1, B flips 1, B says 1, C says 0 -> [0.  0.5 0.5 0. ]\n",
      "A flips 1, B flips 1, B says 1, C says 1 -> [0. 0. 0. 1.]\n"
     ]
    }
   ],
   "source": [
    "out = model()\n",
    "%timeit -r 10 -n 100 out = model().block_until_ready()\n",
    "\n",
    "import itertools\n",
    "for a_, b_, bx, cx in itertools.product(Bit, Bit, Bit, Bit):\n",
    "    print(f\"A flips {a_}, B flips {b_}, B says {bx}, C says {cx} -> {out[a_, b_, bx, cx]}\")"
   ]
  },
  {
   "cell_type": "markdown",
   "id": "6fa3f797-442c-4220-b657-434d57e36bd0",
   "metadata": {},
   "source": [
    "No matter what happens, A's posterior belief is always `[0 0 0 1]` (NSA paid) or `[0 .5 .5 0]` (B or C paid, but unsure which)."
   ]
  }
 ],
 "metadata": {
  "language_info": {
   "name": "python"
  }
 },
 "nbformat": 4,
 "nbformat_minor": 5
}
