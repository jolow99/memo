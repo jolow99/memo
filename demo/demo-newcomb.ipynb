{
 "cells": [
  {
   "cell_type": "markdown",
   "id": "e85e33ae-7b76-4db4-85b5-f77fc0035335",
   "metadata": {},
   "source": [
    "## Newcomb's Paradox\n",
    "\n",
    "Suppose there are two boxes, A and B. You can choose to take the contents of either just box B, or both boxes A and B.\n",
    "* You know that box A contains \\$1000.\n",
    "* Box B's contents were determined ahead of time by an omniscient adversary, who places:\n",
    "    - \\$1,000,000 if he predicts you will take Box B only\n",
    "    - \\$0 if he predicts you will take both boxes.\n",
    "\n",
    "Assuming (because of determinism) that the adversary can indeed make such predictions perfectly, what should you do?\n",
    "\n",
    "People have differing intuitions. Some think you should take both boxes and earn \\$1,001,000. Others think you should only take box B.\n",
    "\n",
    "Here, we model how Wolpert and Benford (2013) resolve the paradox. They argue that people's intuitions come from different intuitions of how to translate the English description into a formal game.\n",
    "\n",
    "Wolpert, D. H., & Benford, G. (2013). The lesson of Newcomb’s paradox. Synthese, 190, 1637-1646.\n",
    "\n",
    "We'll start with some groundwork…"
   ]
  },
  {
   "cell_type": "code",
   "execution_count": 1,
   "id": "4aa782ac-d04f-4945-91c2-15fc7f7c4ea4",
   "metadata": {},
   "outputs": [],
   "source": [
    "from memo import memo\n",
    "import jax\n",
    "import jax.numpy as np\n",
    "from enum import IntEnum\n",
    "\n",
    "class Pick(IntEnum):\n",
    "    # You could either take both A and B, or just B.\n",
    "    AB = 0\n",
    "    B = 1\n",
    "\n",
    "# y is (y)our choice\n",
    "# g is (g)od's choice\n",
    "@jax.jit\n",
    "def payout(g, y):\n",
    "    return np.array([\n",
    "        [1e3 + 000, 000],\n",
    "        [1e3 + 1e6, 1e6]\n",
    "    ])[g, y]"
   ]
  },
  {
   "cell_type": "markdown",
   "id": "c1e7c9df-2c91-46e5-be1a-fa592a1d0033",
   "metadata": {},
   "source": [
    "In Wolpert and Benford's words, the \"fearful\" interpretation is that you have \"free will\" to pick $y$ unconditionally, but God \"knew\" what you would have picked and predicts $g$ correctly. In this case, you should pick B only."
   ]
  },
  {
   "cell_type": "code",
   "execution_count": 2,
   "id": "56a5752f-8bed-4719-9906-f8dc1c4484f3",
   "metadata": {},
   "outputs": [
    {
     "name": "stdout",
     "output_type": "stream",
     "text": [
      "Fearful chooses AB with probability 0.0.\n",
      "Fearful chooses B with probability 1.0.\n"
     ]
    }
   ],
   "source": [
    "@memo\n",
    "def fearful[p: Pick]():\n",
    "    alice: chooses(y in Pick, to_maximize=imagine[\n",
    "        god: knows(y),\n",
    "        god: chooses(g in Pick, to_maximize=(g == y)),\n",
    "        E[payout(god.g, y)]\n",
    "    ])\n",
    "    return Pr[alice.y == p]\n",
    "\n",
    "for p, pr in zip(Pick, fearful()):\n",
    "    print(f'Fearful chooses {p.name} with probability {pr}.')"
   ]
  },
  {
   "cell_type": "markdown",
   "id": "2e7f89b5-ef91-48db-975d-54cc71e8ebd1",
   "metadata": {},
   "source": [
    "The \"realist\" interpretation is that God pre-registers $g$, and you have \"free will\" to pick the conditional distribution of $y \\mid g$. In this case, you should pick both boxes."
   ]
  },
  {
   "cell_type": "code",
   "execution_count": 3,
   "id": "c1af18e1-626f-4d1f-8ace-ad323cc503c0",
   "metadata": {},
   "outputs": [
    {
     "name": "stdout",
     "output_type": "stream",
     "text": [
      "Realist chooses AB with probability 1.0.\n",
      "Realist chooses B with probability 0.0.\n"
     ]
    }
   ],
   "source": [
    "@memo\n",
    "def realist[p: Pick]():\n",
    "    alice: thinks[ god: chooses(g in Pick, wpp=1) ]  # this distribution is arbitrary\n",
    "    alice: chooses(y in Pick, to_maximize=E[payout(god.g, y)])\n",
    "    return Pr[alice.y == p]\n",
    "\n",
    "for p, pr in zip(Pick, realist()):\n",
    "    print(f'Realist chooses {p.name} with probability {pr}.')"
   ]
  },
  {
   "cell_type": "markdown",
   "id": "35df39bd-702a-4955-b719-c6227de874a5",
   "metadata": {},
   "source": [
    "## Advanced explorations\n",
    "\n",
    "What should God do? It is tempting to implement a better version of the realist's model by having God choose $g$ by modeling Alice as choosing $y$ to be equal to $g$. But memo prohibits that: Alice can't choose based on a variable she doesn't yet know."
   ]
  },
  {
   "cell_type": "code",
   "execution_count": 4,
   "id": "1f336674-9853-414e-b819-1a71a54829e0",
   "metadata": {},
   "outputs": [
    {
     "name": "stdout",
     "output_type": "stream",
     "text": [
      " Error: Unknown choice alice.g\n",
      "\n",
      "    at: @memo should_fail_to_compile in 810282331.py, line 5, column 52\n",
      "\n",
      "  hint: Did you perhaps misspell g? alice is not yet aware of any\n",
      "        choice called g. Or, did you forget to call alice.chooses(g\n",
      "        ...) or alice.knows(g) earlier in the memo?\n",
      "\n",
      "  ctxt: This error was encountered in the frame of alice, as modeled\n",
      "        by god, as modeled by alice.  In that frame, alice is\n",
      "        currently modeling the following 1 choices: y.\n",
      "\n",
      "  P.S.: You are currently using...\n",
      "        + memo version 0.3.1 and JAX version 0.4.30\n",
      "        + on Python version 3.12.4 on the Darwin platform\n"
     ]
    }
   ],
   "source": [
    "try:\n",
    "    @memo\n",
    "    def should_fail_to_compile[p: Pick]():\n",
    "        alice: thinks[ god: chooses(g in Pick, wpp=imagine[\n",
    "            alice: chooses(y in Pick, to_maximize=(g == y)),\n",
    "            E[g == alice.y]\n",
    "        ]) ]\n",
    "        alice: chooses(y in Pick, to_maximize=(g == y))\n",
    "        return Pr[alice.y == p]\n",
    "except Exception as e:\n",
    "    print(' Error:', e.message)\n",
    "    print('\\n'.join(e.__notes__))"
   ]
  },
  {
   "cell_type": "markdown",
   "id": "b4c1c680-3e7c-401a-b9c6-73196bc9d6ad",
   "metadata": {},
   "source": [
    "Similarly, it is tempting to ask: what if Alice actually _does_ make the choice that God predicted? But memo catches the error here as well."
   ]
  },
  {
   "cell_type": "code",
   "execution_count": 5,
   "id": "69942d9e-c27d-4b4b-9463-0ba4a6b0c103",
   "metadata": {},
   "outputs": [
    {
     "name": "stdout",
     "output_type": "stream",
     "text": [
      " Error: Uncertain about wpp\n",
      "\n",
      "    at: @memo should_also_fail_to_compile in 3580391324.py, line 5, column 16\n",
      "\n",
      "  hint: alice is uncertain about the value of the 'wpp' expression\n",
      "        that alice is using to choose y. Hence, alice cannot compute\n",
      "        the probabilities needed to make the choice. Perhaps you meant\n",
      "        to take an expected value somewhere, using E[...]?\n",
      "\n",
      "  ctxt: This error was encountered in the frame of alice.  In that\n",
      "        frame, alice is currently modeling the following 2 choices:\n",
      "        god.g, y.\n",
      "\n",
      "  P.S.: You are currently using...\n",
      "        + memo version 0.3.1 and JAX version 0.4.30\n",
      "        + on Python version 3.12.4 on the Darwin platform\n"
     ]
    }
   ],
   "source": [
    "try:\n",
    "    @memo\n",
    "    def should_also_fail_to_compile[p: Pick]():\n",
    "        alice: thinks[ god: chooses(g in Pick, wpp=1) ]\n",
    "        alice: chooses(y in Pick, to_maximize=(y == god.g))\n",
    "        return Pr[alice.y == p]\n",
    "except Exception as e:\n",
    "    print(' Error:', e.message)\n",
    "    print('\\n'.join(e.__notes__))"
   ]
  }
 ],
 "metadata": {
  "kernelspec": {
   "display_name": "Python 3 (ipykernel)",
   "language": "python",
   "name": "python3"
  },
  "language_info": {
   "codemirror_mode": {
    "name": "ipython",
    "version": 3
   },
   "file_extension": ".py",
   "mimetype": "text/x-python",
   "name": "python",
   "nbconvert_exporter": "python",
   "pygments_lexer": "ipython3",
   "version": "3.12.4"
  }
 },
 "nbformat": 4,
 "nbformat_minor": 5
}
