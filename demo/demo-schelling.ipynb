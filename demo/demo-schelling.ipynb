{
 "cells": [
  {
   "cell_type": "code",
   "execution_count": 1,
   "id": "25eb1687-2ffa-4f6e-8561-24792e161bf4",
   "metadata": {},
   "outputs": [],
   "source": [
    "from memo import memo\n",
    "import jax\n",
    "import jax.numpy as np"
   ]
  },
  {
   "cell_type": "code",
   "execution_count": 2,
   "id": "ff07b70f-1a3e-4688-b782-46620de9af48",
   "metadata": {},
   "outputs": [],
   "source": [
    "Bar = np.arange(2)\n",
    "@jax.jit\n",
    "def prior(b): return np.array([0.55, 0.45])[b]\n",
    "\n",
    "@memo\n",
    "def alice[b: Bar](depth):\n",
    "    alice: thinks[ bob: chooses(b in Bar, wpp=bob[b](depth - 1)) ]\n",
    "    alice: chooses(b in Bar, wpp=prior(b) * Pr[b == bob.b])\n",
    "    return Pr[alice.b == b]\n",
    "\n",
    "@memo\n",
    "def bob[b: Bar](depth):\n",
    "    bob: thinks[ alice: chooses(b in Bar, wpp=alice[b](depth) if depth > 0 else 1) ]\n",
    "    bob: chooses(b in Bar, wpp=prior(b) * Pr[b == alice.b])\n",
    "    return Pr[bob.b == b]"
   ]
  },
  {
   "cell_type": "code",
   "execution_count": 3,
   "id": "fd20112c-07de-415f-9a84-f700436bfaa9",
   "metadata": {},
   "outputs": [
    {
     "name": "stdout",
     "output_type": "stream",
     "text": [
      "alice(1) = [0.59900993 0.40099007]\n",
      "bob(1) = [0.64611655 0.35388345]\n",
      "alice(2) = [0.6905481  0.30945188]\n",
      "bob(2) = [0.73171747 0.26828253]\n",
      "alice(3) = [0.76923996 0.23076005]\n",
      "bob(3) = [0.8029279 0.1970721]\n",
      "alice(4) = [0.832767   0.16723298]\n",
      "bob(4) = [0.8588822 0.1411178]\n",
      "alice(5) = [0.88149947 0.11850046]\n",
      "bob(5) = [0.90091014 0.09908987]\n",
      "alice(6) = [0.91743904 0.08256097]\n",
      "bob(6) = [0.9314207  0.06857934]\n",
      "alice(7) = [0.9431811  0.05681884]\n",
      "bob(7) = [0.9530266  0.04697341]\n",
      "alice(8) = [0.9612362  0.03876386]\n",
      "bob(8) = [0.96805906 0.031941  ]\n",
      "alice(9) = [0.9737139 0.0262862]\n",
      "bob(9) = [0.97838986 0.02161017]\n"
     ]
    }
   ],
   "source": [
    "for i in range(1, 10):\n",
    "    print(f'alice({i}) =', alice(i))\n",
    "    print(f'bob({i}) =', bob(i))"
   ]
  }
 ],
 "metadata": {
  "kernelspec": {
   "display_name": "Python 3 (ipykernel)",
   "language": "python",
   "name": "python3"
  },
  "language_info": {
   "codemirror_mode": {
    "name": "ipython",
    "version": 3
   },
   "file_extension": ".py",
   "mimetype": "text/x-python",
   "name": "python",
   "nbconvert_exporter": "python",
   "pygments_lexer": "ipython3",
   "version": "3.12.4"
  }
 },
 "nbformat": 4,
 "nbformat_minor": 5
}
