{
 "cells": [
  {
   "cell_type": "markdown",
   "id": "1330a5e8-2186-408a-9326-71ac967784d7",
   "metadata": {},
   "source": [
    "# Perturbation Confusion\n",
    "\n",
    "This notebook demonstrates the \"perturbation confusion\" issue referenced in Section 1.1.1 of the memo paper, and shows how memo addresses it.\n",
    "\n",
    "The problem set-up is that Alice has to choose between an indoor and outdoor restaurant, and has a slight preference for outdoor over indoor (utility 11 vs 10). However, there is a 50% chance of snow, and if it snows she greatly prefers indoor seating over outdoor (cost of 0 vs 100). We thus expect that Alice will \"play it safe\" and pick indoor seating.\n",
    "\n",
    "However, in WebPPL, a naïve implementation of this problem leads Alice to pick outdoor seating. This is because this model erroneously gives Alice \"control\" over the weather."
   ]
  },
  {
   "cell_type": "code",
   "execution_count": 1,
   "id": "4ddde059-cec1-4f77-b5b6-4a0148cce075",
   "metadata": {},
   "outputs": [
    {
     "name": "stdout",
     "output_type": "stream",
     "text": [
      "{\n",
      "  \u001b[32m'\"indoor\"'\u001b[39m: { val: \u001b[32m'indoor'\u001b[39m, prob: \u001b[33m0.4238831152341708\u001b[39m },\n",
      "  \u001b[32m'\""
     ]
    },
    {
     "name": "stdout",
     "output_type": "stream",
     "text": [
      "outdoor\"'\u001b[39m: { val: \u001b[32m'outdoor'\u001b[39m, prob: \u001b[33m0.576116884765829\u001b[39m }\n",
      "}\n"
     ]
    }
   ],
   "source": [
    "%%bash\n",
    "webppl <(cat <<EOF\n",
    "\n",
    "Infer(function() {\n",
    "    var r = uniformDraw([\"outdoor\", \"indoor\"]);\n",
    "    var s = uniformDraw([\"sunny\", \"stormy\"]);\n",
    "    factor(\n",
    "        (r === \"outdoor\" ? 11 : 10) +\n",
    "        (s === \"stormy\" && r === \"outdoor\" ? -100 : 0)\n",
    "    );\n",
    "    return r;\n",
    "}).getDist();\n",
    "\n",
    "EOF)"
   ]
  },
  {
   "cell_type": "markdown",
   "id": "c395a16f-dd55-43dd-90c9-5e5f602631aa",
   "metadata": {},
   "source": [
    "Let's implement this same model in memo. First, some imports and boilerplate."
   ]
  },
  {
   "cell_type": "code",
   "execution_count": 2,
   "id": "a0ddb73f-52e8-4249-8974-ba5311583574",
   "metadata": {},
   "outputs": [],
   "source": [
    "from memo import memo, domain\n",
    "from enum import IntEnum\n",
    "import jax\n",
    "import jax.numpy as np\n",
    "\n",
    "class Restaurant(IntEnum): Indoor = 0; Outdoor = 1\n",
    "class Weather(IntEnum): Sunny = 0; Stormy = 1\n",
    "@jax.jit\n",
    "def utility(r, s):\n",
    "    return (np.where(r == Restaurant.Outdoor, 11, 10) +\n",
    "            np.where((s == Weather.Stormy) & (r == Restaurant.Outdoor), -100, 0))"
   ]
  },
  {
   "cell_type": "markdown",
   "id": "3aebb5e8-3974-404e-9b1e-0c209f2989ae",
   "metadata": {},
   "source": [
    "Now, we can write our memo model. Notice that _alice_ chooses the restaurant ($r$) but the _world_ chooses whether or not it snows ($s$). memo correctly predicts that Alice has an overwhelming preference for indoor seating."
   ]
  },
  {
   "cell_type": "code",
   "execution_count": 3,
   "id": "2766b539-74a5-4dcb-a348-4560ba067ee6",
   "metadata": {},
   "outputs": [
    {
     "name": "stdout",
     "output_type": "stream",
     "text": [
      "P(Indoor) = 1.0\n",
      "P(Outdoor) = 5.242885696424093e-22\n"
     ]
    }
   ],
   "source": [
    "@memo\n",
    "def model[r: Restaurant]():\n",
    "    alice: chooses(r in Restaurant, wpp=imagine[\n",
    "        world: chooses(s in Weather, wpp=0.5),\n",
    "        exp(E[utility(r, world.s)])\n",
    "    ])\n",
    "    return Pr[alice.r == r]\n",
    "\n",
    "for r in Restaurant:\n",
    "    print(f'P({r.name}) = {model()[r]}')"
   ]
  },
  {
   "cell_type": "markdown",
   "id": "dd55a05f-5e42-40a6-a230-2ca689d594a0",
   "metadata": {},
   "source": [
    "If for some reason we really _did_ explicitly mean for Alice to be able to choose both $r$ and $s$ (as implied by the erroneous WebPPL model), we can do that in memo as well. We intentionally have Alice choose jointly from tuples $(r, s)$. memo has built-in utilities for working with such tuples."
   ]
  },
  {
   "cell_type": "code",
   "execution_count": 4,
   "id": "42ac7a03-44d3-4260-8c12-0abfa6a3990a",
   "metadata": {},
   "outputs": [
    {
     "name": "stdout",
     "output_type": "stream",
     "text": [
      "P(Indoor) = 0.4238831102848053\n",
      "P(Outdoor) = 0.5761168599128723\n"
     ]
    }
   ],
   "source": [
    "RS = domain(r=len(Restaurant), s=len(Weather))\n",
    "get_r, get_s = jax.jit(RS.r), jax.jit(RS.s)\n",
    "\n",
    "@memo\n",
    "def model_[r: Restaurant]():\n",
    "    alice: chooses(rs in RS, wpp=exp(utility(get_r(rs), get_s(rs))))\n",
    "    return Pr[get_r(alice.rs) == r]\n",
    "\n",
    "for r in Restaurant:\n",
    "    print(f'P({r.name}) = {model_()[r]}')"
   ]
  },
  {
   "cell_type": "markdown",
   "id": "075c4249-a1df-4b48-8a10-01bcd55d3831",
   "metadata": {},
   "source": [
    "Notice that this gives us exactly the same output as the WebPPL version with perturbation confusion."
   ]
  }
 ],
 "metadata": {
  "language_info": {
   "name": "python"
  }
 },
 "nbformat": 4,
 "nbformat_minor": 5
}
