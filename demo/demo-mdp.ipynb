{
 "cells": [
  {
   "cell_type": "markdown",
   "id": "e98b3371-c71f-4edd-9bbf-9461dd258e93",
   "metadata": {},
   "source": [
    "# MDP planning and inverse planning\n",
    "\n",
    "In this notebook we will set up a simple grid-world, plan routes to goals, and infer goals given actions."
   ]
  },
  {
   "cell_type": "code",
   "execution_count": 1,
   "id": "dbc21fd7-4da7-4135-a10c-0ae18c50f0ec",
   "metadata": {},
   "outputs": [],
   "source": [
    "from functools import cache\n",
    "import jax\n",
    "import jax.numpy as np\n",
    "import matplotlib.pyplot as plt\n",
    "from memo import memo\n",
    "\n",
    "H = 21\n",
    "W = 21\n",
    "S = np.arange(H * W)  # state space\n",
    "G = np.array([0, H * W - 1])  # possible goals: NW and SE corners\n",
    "\n",
    "A = np.array([0, 1, 2, 3])  # action space: left, right, up, down\n",
    "coord_actions = np.array([[-1, 0], [+1, 0], [0, -1], [0, +1]])\n",
    "\n",
    "maze_raw = np.array(1 - plt.imread('../paper/fig/logo-maze.png'), dtype=int);\n",
    "maze = maze_raw.reshape(-1)\n",
    "assert maze_raw.size == H * W\n",
    "\n",
    "# # Alternatively...\n",
    "# maze = np.zeros(H * W)  # blank maze\n",
    "\n",
    "# transition function: P(s_ | s, a)\n",
    "@jax.jit\n",
    "def Tr(s, a, s_):\n",
    "    x, y = s % W, s // W\n",
    "    next_coords = np.array([x, y]) + coord_actions[a]\n",
    "    next_state = (\n",
    "        + 1 * np.clip(next_coords[0], 0, W - 1)\n",
    "        + W * np.clip(next_coords[1], 0, H - 1)\n",
    "    )\n",
    "    return (\n",
    "        + 1.0 * ((maze[next_state] == 0) & (next_state == s_))  # next state free, can move there\n",
    "        + 1.0 * ((maze[next_state] == 1) & (s == s_)) # next state occupied, stay where you are\n",
    "    )\n",
    "\n",
    "# reward function\n",
    "@jax.jit\n",
    "def R(s, a, g):\n",
    "    return 1.0 * (s == g) - 0.1\n",
    "\n",
    "@jax.jit\n",
    "def is_terminating(s, g):\n",
    "    return s == g\n",
    "\n",
    "# discount factor\n",
    "@jax.jit\n",
    "def gamma():\n",
    "    return 1.0"
   ]
  },
  {
   "cell_type": "markdown",
   "id": "1e81c7dc-612b-4228-8896-6be6122e8782",
   "metadata": {},
   "source": [
    "We can plan via Q-value iteration and inverse-plan by inferring $P(g \\mid s, a)$ where $P(a \\mid s, g)$ is given by a softmax over Q-value with $\\beta=2$."
   ]
  },
  {
   "cell_type": "code",
   "execution_count": 2,
   "id": "734c556e-dcc4-4b39-b773-be1949a3606e",
   "metadata": {},
   "outputs": [
    {
     "name": "stdout",
     "output_type": "stream",
     "text": [
      "6.87 s ± 0 ns per loop (mean ± std. dev. of 1 run, 10 loops each)\n",
      "4.28 ms ± 0 ns per loop (mean ± std. dev. of 1 run, 10 loops each)\n"
     ]
    }
   ],
   "source": [
    "@cache\n",
    "@memo\n",
    "def Q[s: S, a: A, g: G](t):\n",
    "    alice: knows(s, a, g)\n",
    "    alice: given(s_ in S, wpp=Tr(s, a, s_))\n",
    "    alice: chooses(a_ in A, to_maximize=0.0 if t < 0 else Q[s_, a_, g](t - 1))\n",
    "    return E[\n",
    "        R(s, a, g) + (0.0 if t < 0 else\n",
    "                      0.0 if is_terminating(s, g) else\n",
    "                      gamma() * Q[alice.s_, alice.a_, g](t - 1))\n",
    "    ]\n",
    "\n",
    "@memo\n",
    "def invplan[s: S, a: A, g: G](t):\n",
    "    observer: knows(a, s, g)\n",
    "    observer: thinks[\n",
    "        alice: chooses(g in G, wpp=1),\n",
    "        alice: knows(s),\n",
    "        alice: chooses(a in A, wpp=exp(2 * Q[s, a, g](t))),\n",
    "    ]\n",
    "    observer: observes [alice.a] is a\n",
    "    return observer[E[alice.g == g]]\n",
    "\n",
    "Q(0)  # pre-compile Q\n",
    "%timeit -r 1 -n 10 Q.cache_clear(); Q(1000).block_until_ready()\n",
    "%timeit -r 1 -n 10 invplan(1000).block_until_ready()\n",
    "ip = invplan(1000)\n",
    "v = Q(1000).max(axis=1)"
   ]
  },
  {
   "cell_type": "markdown",
   "id": "b94b6f0b-dd44-4787-a3f4-49c0726d607e",
   "metadata": {},
   "source": [
    "This is already pretty fast, though it is even faster on a GPU.\n",
    "\n",
    "Finally, let's make the plots shown in the paper."
   ]
  },
  {
   "cell_type": "code",
   "execution_count": 3,
   "id": "4dc266a7-e85a-4ee1-8498-099e44d0b641",
   "metadata": {},
   "outputs": [
    {
     "data": {
      "image/png": "[encoded data removed]",
      "text/plain": [
       "<Figure size 300x300 with 4 Axes>"
      ]
     },
     "metadata": {},
     "output_type": "display_data"
    }
   ],
   "source": [
    "plt.figure(figsize=(3, 3))\n",
    "\n",
    "plt.subplot(2, 2, 1)\n",
    "plt.imshow((v[:, 0].reshape(H, W)))\n",
    "plt.imshow(1 - maze_raw, cmap='gray', alpha=1. * maze_raw)\n",
    "plt.plot([0], [0], 'r*')\n",
    "plt.plot([20], [20], 'b*')\n",
    "plt.xticks([]); plt.yticks([])\n",
    "plt.title('(a)')\n",
    "\n",
    "plt.subplot(2, 2, 2)\n",
    "plt.imshow((v[:, 1].reshape(H, W)))\n",
    "plt.imshow(1 - maze_raw, cmap='gray', alpha=1. * maze_raw)\n",
    "plt.xticks([]); plt.yticks([])\n",
    "plt.plot([0], [0], 'r*')\n",
    "plt.plot([20], [20], 'b*')\n",
    "plt.title('(b)')\n",
    "\n",
    "dip = ip[:, :, 0] - ip[:, :, 1]\n",
    "plt.subplot(2, 2, 3)\n",
    "plt.imshow(dip[:, 0].reshape(H, W), cmap='bwr', vmin=-1, vmax=+1)\n",
    "plt.imshow(1 - maze_raw, cmap='gray', alpha=1. * maze_raw)\n",
    "plt.xticks([]); plt.yticks([])\n",
    "plt.plot([0], [0], 'r*')\n",
    "plt.plot([20], [20], 'b*')\n",
    "plt.title('(c)')\n",
    "\n",
    "plt.subplot(2, 2, 4)\n",
    "plt.imshow(dip[:, 3].reshape(H, W), cmap='bwr', vmin=-1, vmax=+1)\n",
    "plt.imshow(1 - maze_raw, cmap='gray', alpha=1. * maze_raw)\n",
    "plt.xticks([]); plt.yticks([])\n",
    "plt.plot([0], [0], 'r*')\n",
    "plt.plot([20], [20], 'b*')\n",
    "plt.title('(d)')\n",
    "\n",
    "plt.tight_layout()\n",
    "\n",
    "plt.savefig('../paper/fig/mdp.pdf')"
   ]
  }
 ],
 "metadata": {
  "language_info": {
   "name": "python"
  }
 },
 "nbformat": 4,
 "nbformat_minor": 5
}
