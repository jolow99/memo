{
 "cells": [
  {
   "cell_type": "markdown",
   "id": "a933fee7-cb4b-4e5a-a2f1-90e4fe63c45b",
   "metadata": {},
   "source": [
    "# Intuitive psychology meets intuitive physics\n",
    "\n",
    "Inspired by: _Liu, S., Outa, J., & Akbiyik, S. (2024). Naive psychology depends on naive physics._\n",
    "\n",
    "How do our systems of intuitive psychology and intuitive physics interoperate? In this notebook, I will show you how conceiving as these systems as domain-specific languages (DSLs) allows us to reason about interoperation in terms of application-programming interfaces (APIs) between DSLs — a problem that has been widely studied by programming language theorists over the past many decades. Specifically, I will draw on **memo**, a DSL for modeling psychology, and **jax2d**, a library/DSL for modeling physics, and show how they can be connected in a principled way to model classic inferences that even very young children make."
   ]
  },
  {
   "cell_type": "code",
   "execution_count": 1,
   "id": "8daf5840-7f01-422e-9490-a7d8bf072a1d",
   "metadata": {},
   "outputs": [],
   "source": [
    "# memo, our psychology DSL\n",
    "from memo import memo\n",
    "import jax\n",
    "import jax.numpy as np\n",
    "from matplotlib import pyplot as plt\n",
    "\n",
    "# jax2d, our physics DSL\n",
    "from jax2d.engine import PhysicsEngine, create_empty_sim\n",
    "from jax2d.scene import (add_circle_to_scene, add_rectangle_to_scene, add_thruster_to_scene)\n",
    "from jax2d.sim_state import StaticSimParams, SimParams"
   ]
  },
  {
   "cell_type": "markdown",
   "id": "3914a8a6-7b86-40d6-bd89-a21a1a2d7983",
   "metadata": {},
   "source": [
    "To start, let us use jax2d to set up a simple physical world involving a circular agent who has to get to a goal. There may or may not be a fixed rectangular wall in between the agent and the goal. The agent can choose an angle $\\theta$ (theta) and an impulse $\\iota$ (iota) with which to launch itself towards its goal.\n",
    "\n",
    "The details of this implementation are standard and not particularly interesting. But it is worth noting that this is completely modular within jax2d, the physics DSL: it does not require memo, the psychology DSL, at all."
   ]
  },
  {
   "cell_type": "code",
   "execution_count": 2,
   "id": "fd46c433-b580-446a-8456-51c50ae87b72",
   "metadata": {},
   "outputs": [],
   "source": [
    "static_sim_params = StaticSimParams(num_circles=2, num_polygons=6, num_thrusters=2)\n",
    "engine = PhysicsEngine(static_sim_params)\n",
    "step = jax.jit(engine.step)\n",
    "sim_params = SimParams()\n",
    "sim_state = create_empty_sim(static_sim_params, add_walls_and_ceiling=True, floor_offset=0.0)\n",
    "sim_state, (_, body_idx) = add_circle_to_scene(\n",
    "    sim_state, static_sim_params, position=np.array([0.0, 0.1]), radius=0.1, friction=0.0,\n",
    "    velocity=np.array([0.0, 0.0]), density=1.0\n",
    ")\n",
    "ss0 = sim_state\n",
    "\n",
    "def setup_sim(theta, iota, wall):\n",
    "    sim_state = ss0\n",
    "    if wall:\n",
    "        sim_state, (_, wall_idx) = add_rectangle_to_scene(\n",
    "            sim_state, static_sim_params, position=np.array([1., 0.5]), dimensions=np.array([0.1, 1.0]),\n",
    "            fixated=True\n",
    "        )\n",
    "    sim_state, th_idx = add_thruster_to_scene(\n",
    "        sim_state, body_idx,\n",
    "        np.array([0, 0]),\n",
    "        rotation=theta,\n",
    "        power=iota\n",
    "    )\n",
    "    return sim_state\n",
    "\n",
    "@jax.jit\n",
    "def step_sim(t, sim_state):\n",
    "    return step(\n",
    "        sim_state, sim_params,\n",
    "        np.array(\n",
    "            [0.0] * static_sim_params.num_joints +\n",
    "            [1.0 * (t == 0)] * static_sim_params.num_thrusters\n",
    "        )\n",
    "    )[0]\n",
    "\n",
    "def run_sim(theta, iota, wall):\n",
    "    sim_state = setup_sim(theta, iota, wall)\n",
    "    sim_state = jax.lax.fori_loop(0, 100, step_sim, sim_state)\n",
    "    return sim_state.circle.position[0]\n",
    "\n",
    "def draw_sim(theta, iota, wall):  # for visualization only\n",
    "    sim_state = setup_sim(theta, iota, wall)\n",
    "    for t in range(100 + 1):\n",
    "        sim_state = step_sim(t, sim_state)\n",
    "        if t % 5 == 0:\n",
    "            plt.gca().add_patch(\n",
    "                plt.Circle(sim_state.circle.position[0], sim_state.circle.radius[0], alpha=0.25)\n",
    "            )\n",
    "    if wall:\n",
    "        rect = sim_state.polygon.position[4] + sim_state.polygon.vertices[4]\n",
    "        plt.plot(*(np.concatenate([rect, rect[0:1]])).T, c='k')\n",
    "    plt.plot([0, 5], [0, 0], 'k')\n",
    "    plt.axis('equal')\n",
    "    plt.axis('off')\n",
    "    plt.gca().add_patch(\n",
    "        plt.Rectangle((2, 0), 3, 0.5, fc='green', alpha=0.25)\n",
    "    )"
   ]
  },
  {
   "cell_type": "markdown",
   "id": "109c9019-6906-426f-8b2c-b8fcd0036ca2",
   "metadata": {},
   "source": [
    "Even in this simple world, we can set up a variety of interesting situations. Here are some combinations of high/low-effort actions, crossed against the presence/absence of a wall."
   ]
  },
  {
   "cell_type": "code",
   "execution_count": 3,
   "id": "74c71ec3-8e90-4914-9970-6838e9b194cb",
   "metadata": {},
   "outputs": [
    {
     "data": {
      "image/png": "[encoded data removed]",
      "text/plain": [
       "<Figure size 640x480 with 4 Axes>"
      ]
     },
     "metadata": {},
     "output_type": "display_data"
    }
   ],
   "source": [
    "plt.subplot(2, 2, 1)\n",
    "plt.title('Wall + high effort')\n",
    "draw_sim(1.2, 1.0, True)\n",
    "\n",
    "plt.subplot(2, 2, 2)\n",
    "plt.title('Wall + low effort')\n",
    "draw_sim(0., 0.2, True)\n",
    "\n",
    "plt.subplot(2, 2, 3)\n",
    "plt.title('No wall + high effort')\n",
    "draw_sim(1.2, 1.0, False)\n",
    "\n",
    "plt.subplot(2, 2, 4)\n",
    "plt.title('No wall + low effort')\n",
    "draw_sim(0., 0.5, False)"
   ]
  },
  {
   "cell_type": "markdown",
   "id": "f31a49c0-8444-4c55-a11d-5d2ecc264a31",
   "metadata": {},
   "source": [
    "Now, let us model an inference studied by Csibra et al (2003): we will consider a baby who observes the trajectory taken by the agent, and model its expectations of whether or not the wall was present.\n",
    "\n",
    "_Csibra, G., Bíró, S., Koós, O., & Gergely, G. (2003). One-year-old infants use teleological representations of actions productively. Cognitive Science, 27(1), 111–133._\n",
    "\n",
    "First, we endow the agent with a utility, which is measured in terms of (a) a reward, determined by whether or not it reaches the goal area, and (b) a cost, determined by how much energy it expended, which is proportional to the impulse. We will balance these two terms according to some parameter `weight`. Notice that this \"utility\" function makes a _call_ to the jax2d physics simulation, though it itself is agnostic to how the simulation is carried out."
   ]
  },
  {
   "cell_type": "code",
   "execution_count": 4,
   "id": "6f6d54f2-8a87-4bed-a2b5-e4584da04af1",
   "metadata": {},
   "outputs": [],
   "source": [
    "@jax.jit\n",
    "def utility(theta, iota, wall, weight):\n",
    "    def reward(xf, yf):\n",
    "        return 1.0 * (xf > 2.0) * (yf < 0.5)\n",
    "    cost = iota\n",
    "    r1 = reward(*run_sim(theta, iota, wall=True))\n",
    "    r0 = reward(*run_sim(theta, iota, wall=False))\n",
    "    return weight * np.where(wall, r1, r0) - cost"
   ]
  },
  {
   "cell_type": "markdown",
   "id": "2b67e957-1edd-4498-b554-ffe8d9d0de3d",
   "metadata": {},
   "source": [
    "Next, we will use memo to model a baby who observes an agent launch itself with parameters $(\\theta, \\iota)$, and model its surprisal at the presence of a wall as a function of $(\\theta, \\iota)$."
   ]
  },
  {
   "cell_type": "code",
   "execution_count": 5,
   "id": "e8f4de50-6587-40f9-b033-320aaab94139",
   "metadata": {},
   "outputs": [],
   "source": [
    "# Declare data types used in this model\n",
    "Angle = np.linspace(0, np.pi / 2, 25)\n",
    "Impulse = np.linspace(0, 1.5, 25)\n",
    "Weight = np.linspace(0, 2, 5)\n",
    "Wall = np.array([0, 1])\n",
    "\n",
    "@memo\n",
    "def model[theta: Angle, iota: Impulse]():\n",
    "    baby: thinks[\n",
    "        agent: given(wall in Wall, wpp=1),  # agent sees wall, hidden from baby\n",
    "        agent: given(weight in Weight, wpp=1),  # agent has utility weight\n",
    "        agent: chooses(  # agent chooses action\n",
    "            theta in Angle, iota in Impulse,\n",
    "            # The agent is softmax-optimal wrt the utility we defined.\n",
    "            # Here, we make a call to `utility`, which in turn simulates\n",
    "            # physics via jax2d.\n",
    "            wpp=exp(3.0 * utility(theta, iota, wall, weight))\n",
    "        )\n",
    "    ]\n",
    "\n",
    "    # baby makes an inference about wall after observing agent's action\n",
    "    baby: observes [agent.theta] is theta\n",
    "    baby: observes [agent.iota] is iota\n",
    "    return baby[Pr[agent.wall == 1]]"
   ]
  },
  {
   "cell_type": "markdown",
   "id": "00c9d81d-6ccc-4202-8c13-f87f985477f4",
   "metadata": {},
   "source": [
    "Critically, the memo code is physics-agnostic. It reads as a model of psychology: it contains beliefs, desires, and rational actions. Physics is only referenced by way of the function `utility`, which (as previously discussed) makes a call to jax2d to run the simulation.\n",
    "\n",
    "We can easily run this model and plot the results… (It takes a few seconds, which might seem slow, but remember that we are running the model across all $25\\times25 = 625$ conditions!)"
   ]
  },
  {
   "cell_type": "code",
   "execution_count": 6,
   "id": "7b366e75-91ba-4e44-bc41-0be620f4f1db",
   "metadata": {},
   "outputs": [
    {
     "name": "stdout",
     "output_type": "stream",
     "text": [
      "CPU times: user 1min 33s, sys: 2.96 s, total: 1min 36s\n",
      "Wall time: 39.7 s\n"
     ]
    },
    {
     "data": {
      "image/png": "[encoded data removed]",
      "text/plain": [
       "<Figure size 640x480 with 2 Axes>"
      ]
     },
     "metadata": {},
     "output_type": "display_data"
    }
   ],
   "source": [
    "%%time\n",
    "t = model()\n",
    "plt.colorbar(plt.imshow(t, vmin=0, vmax=1))\n",
    "\n",
    "plt.title(\"Baby's inference of presence of wall\")\n",
    "\n",
    "plt.xlabel('Impulse')\n",
    "plt.xticks([0, 25], ['min', 'max'])\n",
    "\n",
    "plt.ylabel('Angle')\n",
    "plt.yticks([0, 25], ['0º', '90º'])\n",
    "\n",
    "None"
   ]
  },
  {
   "cell_type": "markdown",
   "id": "cb49e9e0-f07d-486b-94dc-8455ae5711ad",
   "metadata": {},
   "source": [
    "This plot shows three clear regimes of inference. What can we make of them?\n",
    "1. The green left edge of the plot tells us that if the agent hardly moves, then the baby is unsure of the agent's intentions: it seems like the agent is not motivated to even try to reach the goal (perhaps because the goal weight is low). Similarly, if the agent launches itself straight up (close to 90º), then it is not clear what it is trying to do.\n",
    "2. The yellow bottom-right corner tells us that if the agent launches itself at a steep angle, with a strong impulse, then the baby is highly confident that there is a wall present. This is the critical trial!\n",
    "3. The blue top-right corner tells us that if the agent launches itself at a shallow angle, then no matter the impulse, the baby is confident that there is no wall present.\n",
    "\n",
    "These inferences all accord with our intuitions, and the critical trial (2) also accords with Csibra et al's results.\n",
    "\n",
    "## So what do we make of all this?\n",
    "\n",
    "In this notebook, I showed you how to interface between memo, a DSL for modeling psychology, and jax2d, a DSL for modeling physics. We wrote programs in both of these DSLs, which operated independently, except that the memo program made a _call_ to the jax2d program in order to request simulations. In this way, we were able to integrate two modular systems to perform a joint computation — importantly, without resorting to any domain-general downstream processing unit to integrate computations from these two domain-specific systems. I think this is a plausible architecture for how systems of core knowledge interface with each other in the brain — and I hope we can find ways to test this idea further!"
   ]
  },
  {
   "cell_type": "code",
   "execution_count": null,
   "id": "379c0aae-19cb-4fbe-9f48-1e71b537b86c",
   "metadata": {},
   "outputs": [],
   "source": []
  }
 ],
 "metadata": {
  "kernelspec": {
   "display_name": "Python 3 (ipykernel)",
   "language": "python",
   "name": "python3"
  },
  "language_info": {
   "codemirror_mode": {
    "name": "ipython",
    "version": 3
   },
   "file_extension": ".py",
   "mimetype": "text/x-python",
   "name": "python",
   "nbconvert_exporter": "python",
   "pygments_lexer": "ipython3",
   "version": "3.13.2"
  }
 },
 "nbformat": 4,
 "nbformat_minor": 5
}
