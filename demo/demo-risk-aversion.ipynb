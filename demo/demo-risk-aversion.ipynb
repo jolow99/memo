{
 "cells": [
  {
   "cell_type": "markdown",
   "id": "6e5b27c6-9918-458d-b1df-c194bebdd650",
   "metadata": {},
   "source": [
    "# Risk aversion\n",
    "\n",
    "Terry Tao recently shared some thoughts about risk aversion [on Mastodon](https://mathstodon.xyz/@tao/113479000564381543).\n",
    "\n",
    "His example is easy to model in memo. First, some imports and boilerplate…"
   ]
  },
  {
   "cell_type": "code",
   "execution_count": 1,
   "id": "678aef32-1994-4770-a559-2c7fbbb144e8",
   "metadata": {},
   "outputs": [],
   "source": [
    "from memo import memo\n",
    "import jax.numpy as np\n",
    "import jax\n",
    "from enum import IntEnum\n",
    "\n",
    "class Action(IntEnum):  # two types of actions\n",
    "    Safe = 0\n",
    "    Bold = 1\n",
    "\n",
    "# Outcome space: unit normal, support truncated to -10 to 10, discretized to 101 cells\n",
    "Outcome = np.linspace(-10, 10, 101)\n",
    "from jax.scipy.stats.norm import pdf as normpdf\n",
    "normpdf = jax.jit(normpdf)"
   ]
  },
  {
   "cell_type": "markdown",
   "id": "9d9f8e03-da11-4b62-ac94-616da9beffbc",
   "metadata": {},
   "source": [
    "An agent's utility depends on the type of action and the outcome."
   ]
  },
  {
   "cell_type": "code",
   "execution_count": 2,
   "id": "2b76392f-0344-42e3-9330-a43c02dbcb2d",
   "metadata": {},
   "outputs": [],
   "source": [
    "@jax.jit\n",
    "def utility(a, o):\n",
    "    means = np.array([5, 9])  # safe, bold\n",
    "    stdvs = np.array([3, 10]) # safe, bold\n",
    "    return means[a] + stdvs[a] * o"
   ]
  },
  {
   "cell_type": "markdown",
   "id": "81fc00f2-66cc-40d5-a982-803f896d2724",
   "metadata": {},
   "source": [
    "Now in memo, we can model an agent who minimizes their \"value at risk\", which is defined by Terry as $\\sqrt{\\text{Var}[u]} - E[u]$ for utility $u$."
   ]
  },
  {
   "cell_type": "code",
   "execution_count": 3,
   "id": "87e6cd78-f09b-4d36-9284-2e7a8cdbde5b",
   "metadata": {},
   "outputs": [
    {
     "name": "stdout",
     "output_type": "stream",
     "text": [
      "P(Safe) = 1.0\n",
      "P(Bold) = 0.0\n"
     ]
    }
   ],
   "source": [
    "@memo\n",
    "def model[a: Action]():\n",
    "    terry: chooses(a in Action, to_minimize=imagine[  # terry minimizes \"value at risk\"\n",
    "        world: chooses(o in Outcome, wpp=normpdf(o)),  # outcome of action ~ N(0, 1)\n",
    "        # value risk:\n",
    "        Var[utility(a, world.o)]**0.5 - E[utility(a, world.o)]\n",
    "    ])\n",
    "    return Pr[terry.a == a]\n",
    "for a in Action: print(f'P({a.name}) = {model()[a]}')"
   ]
  },
  {
   "cell_type": "markdown",
   "id": "2efc65c1-1932-44d2-bc80-d1c1d3568647",
   "metadata": {},
   "source": [
    "Terry chooses the safe action.\n",
    "\n",
    "Now what happens if we introduce an external \"shock\" factor with mean 5 and variance 10?"
   ]
  },
  {
   "cell_type": "code",
   "execution_count": 4,
   "id": "ce8a68b3-db84-4195-84b6-9d9b753551da",
   "metadata": {},
   "outputs": [
    {
     "name": "stdout",
     "output_type": "stream",
     "text": [
      "P(Safe) = 0.0\n",
      "P(Bold) = 1.0\n"
     ]
    }
   ],
   "source": [
    "@jax.jit\n",
    "def utility(a, o, shock):\n",
    "    mean = np.array([5, 9])\n",
    "    stdv = np.array([3, 10])\n",
    "    return mean[a] + stdv[a] * o + (-5 + 10 * shock)\n",
    "\n",
    "@memo\n",
    "def model[a: Action]():\n",
    "    terry: chooses(a in Action, to_minimize=imagine[  # terry minimizes \"value at risk\"\n",
    "        world: chooses(o in Outcome, wpp=normpdf(o)),  # outcome of action ~ N(0, 1)\n",
    "        world: chooses(s in Outcome, wpp=normpdf(s)),  # external \"shock\" factor ~ N(0, 1)\n",
    "        # value risk:\n",
    "        Var[utility(a, world.o, world.s)]**0.5 - E[utility(a, world.o, world.s)]\n",
    "    ])\n",
    "    return Pr[terry.a == a]\n",
    "\n",
    "for a in Action: print(f'P({a.name}) = {model()[a]}')"
   ]
  },
  {
   "cell_type": "markdown",
   "id": "a3880bba-b0cc-4720-ae0b-3c9d348ee673",
   "metadata": {},
   "source": [
    "Now Terry prefers the risky action!"
   ]
  }
 ],
 "metadata": {
  "language_info": {
   "name": "python"
  }
 },
 "nbformat": 4,
 "nbformat_minor": 5
}
