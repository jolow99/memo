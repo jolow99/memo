{
 "cells": [
  {
   "cell_type": "markdown",
   "id": "6eaf827f-0136-4698-9d65-a6964605a23a",
   "metadata": {},
   "source": [
    "# The Memonomicon"
   ]
  },
  {
   "cell_type": "markdown",
   "id": "c4bd6424-7c16-44ac-9d1c-fe5b550bfd8d",
   "metadata": {},
   "source": [
    "This notebook provides a friendly introduction to memo. It is well-suited for people who already have some familiarity with the art of Bayesian modeling in cognitive science (e.g. with WebPPL). Some practice with array programming in Python (e.g. libraries like NumPy, PyTorch, or JAX) may also be helpful."
   ]
  },
  {
   "cell_type": "code",
   "execution_count": 1,
   "id": "affde3c6-bd36-4fd8-a7b8-0fa74db4bb71",
   "metadata": {},
   "outputs": [],
   "source": [
    "# !pip install memo-lang\n",
    "\n",
    "import jax\n",
    "import jax.numpy as np\n",
    "from memo import memo"
   ]
  },
  {
   "cell_type": "markdown",
   "id": "e4ce71cd-462a-4207-be45-c5b786dd6fa5",
   "metadata": {},
   "source": [
    "## Hello, memo!"
   ]
  },
  {
   "cell_type": "markdown",
   "id": "59961bb9-2af8-407f-9717-d2124b2fecf4",
   "metadata": {},
   "source": [
    "At its heart, memo is a language for modeling the _choices_ made by _agents_. For example, suppose Alice chooses a card among three options, uniformly at random. Let us start by computing the expected value of the number on the card.\n",
    "\n",
    "If we were expressing this situation in mathematical notation, we might say that Alice choses $c \\sim \\text{Uniform}(\\text{cards})$, or perhaps $p(c) \\propto 1$, and that we wish to compute $\\textbf{E}[c]$.\n",
    "\n",
    "To express this in memo, first we create a representation of the set of cards:"
   ]
  },
  {
   "cell_type": "code",
   "execution_count": 2,
   "id": "b4ea7b01-6068-49aa-ab71-65504f81121d",
   "metadata": {},
   "outputs": [],
   "source": [
    "cards = np.array([1, 2, 3])"
   ]
  },
  {
   "cell_type": "markdown",
   "id": "6b242ba6-ee7c-4d30-a207-2d7eaa8b6c53",
   "metadata": {},
   "source": [
    "Then, we create a memo that represents Alice choosing one of the cards with uniform probability."
   ]
  },
  {
   "cell_type": "code",
   "execution_count": 3,
   "id": "491a8f29-56e3-4ac6-b8c9-ef41ff4c3104",
   "metadata": {},
   "outputs": [],
   "source": [
    "@memo\n",
    "def alice_chooses_card():\n",
    "    cast: [alice]\n",
    "    alice: chooses(c in cards, wpp=1)\n",
    "    return E[alice.c]"
   ]
  },
  {
   "cell_type": "markdown",
   "id": "a9ed2473-dda1-40e8-a235-2a412d6d4385",
   "metadata": {},
   "source": [
    "+ `@memo` is a tag that tells memo to interpret the function as memo code rather than Python code.\n",
    "+ `cast` tells memo the names of the agents being modeled (like a cast of characters in a play). In this case, there is only one (Alice).\n",
    "+ `chooses` says that Alice picks one card among `cards`, and calls that card `c`.\n",
    "+ `wpp` stands for **\"with probability proportional to\"**. Here, Alice chooses with probability proportional to 1, i.e. uniformly at random. In general, we can write arbitrary expressions after `wpp` to express probability distributions, which memo will automatically normalize.\n",
    "+ The `return` line says we should compute the expected value of Alice's card (`alice.c`).\n",
    "\n",
    "We can run this memo by calling it just like a Python function."
   ]
  },
  {
   "cell_type": "code",
   "execution_count": 4,
   "id": "88933e1a-31c8-4ad0-bf72-c56b7d6953f4",
   "metadata": {},
   "outputs": [
    {
     "data": {
      "text/plain": [
       "Array(2., dtype=float32)"
      ]
     },
     "execution_count": 4,
     "metadata": {},
     "output_type": "execute_result"
    }
   ],
   "source": [
    "alice_chooses_card()"
   ]
  },
  {
   "cell_type": "markdown",
   "id": "77c3bd31-5662-4467-9cee-6cfe53a9423c",
   "metadata": {},
   "source": [
    "The return value is a JAX array, which indeed contains 2, the average card value."
   ]
  },
  {
   "cell_type": "markdown",
   "id": "abe16638-29f5-4d36-a928-d8b2f81f58bc",
   "metadata": {},
   "source": [
    "## Array programming in memo\n",
    "\n",
    "Another way to think about memo is as a language for defining tables of values. For example, suppose we wanted to create a table that shows the probability that Alice chooses each card. We could do this by introducing a new **axis** to our memo `alice_chooses_card[c: card]`), and `return`-ing the probability that Alice's chosen card is `c` (given by `E[alice.c == c]`).\n",
    "\n",
    "You can think of introducing an axis as saying: \"for every possible value of `c` in `cards`, run this model and give me the outputs in a table.\""
   ]
  },
  {
   "cell_type": "code",
   "execution_count": 34,
   "id": "367caa10-0036-491f-9579-3e2990549613",
   "metadata": {},
   "outputs": [
    {
     "data": {
      "text/plain": [
       "Array([0.33333334, 0.33333334, 0.33333334], dtype=float32)"
      ]
     },
     "execution_count": 34,
     "metadata": {},
     "output_type": "execute_result"
    }
   ],
   "source": [
    "@memo\n",
    "def alice_chooses_card[c: cards]():  # notice the new axis c\n",
    "    cast: [alice]\n",
    "    alice: chooses(c in cards, wpp=1)\n",
    "    return E[alice.c == c]\n",
    "\n",
    "alice_chooses_card()"
   ]
  },
  {
   "cell_type": "markdown",
   "id": "e255cd8d-29c9-4a77-959a-75838e720096",
   "metadata": {},
   "source": [
    "The result is what we expect: a uniform distribution, 1/3 probability each.\n",
    "\n",
    "Let's try a more interesting distribution. Suppose Alice is likelier to pick a card with a higher value: for example, suppose $p(c) \\propto \\exp(\\beta \\cdot c)$, i.e. Alice chooses based on a softmax over card values with some temperature $\\beta$. We can model this in memo by introducing a **parameter** `beta`, and editing the `wpp` of Alice's choice accordingly.\n",
    "\n",
    "Notice that **axes** appear in square brackets and **parameters** appear in round parentheses in the definition of a memo. These are different! You should think of axes as representing the combinatorial space of possible conditions/scenarios/outcomes of an experiment, and parameters as free parameters of the model.\n",
    "\n",
    "Our new model, run with $\\beta = 3$, shows that Alice is overwhelmingly likelier to choose card 3 than either card 1 or card 2. She is also about $20\\times$ likelier to choose card 2 over card 1."
   ]
  },
  {
   "cell_type": "code",
   "execution_count": 35,
   "id": "44e4ff53-9567-4f19-832a-17978b643bd4",
   "metadata": {},
   "outputs": [
    {
     "data": {
      "text/plain": [
       "Array([0.00235563, 0.04731416, 0.9503302 ], dtype=float32)"
      ]
     },
     "execution_count": 35,
     "metadata": {},
     "output_type": "execute_result"
    }
   ],
   "source": [
    "@memo\n",
    "def alice_chooses_card[c: cards](beta):  # notice the new parameter beta\n",
    "    cast: [alice]\n",
    "    alice: chooses(c in cards, wpp=exp(beta * c))  # notice new wpp\n",
    "    return E[alice.c == c]\n",
    "\n",
    "alice_chooses_card(3.0)"
   ]
  },
  {
   "cell_type": "markdown",
   "id": "151444df-16b6-49e6-832c-4b387fbc7cef",
   "metadata": {},
   "source": [
    "Now, let's introduce a new agent. Suppose Bob also wants to choose a card — he doesn't care about the value, but he wants to avoid choosing the same card as Alice.\n",
    "\n",
    "First, take a moment to test your intuition: what do you expect? Knowing what he does about Alice, Bob will undoubtedly avoid card 3. We should therefore expect him to probably pick card 1 or card 2, with a slight preference for card 1.\n",
    "\n",
    "To model this in memo, we create a new memo called `bob_chooses_card`, where the cast includes both Alice and Bob. Then, we use the **thinks** statement to express _Bob's mental model of Alice_. Notice that Alice's `wpp` references the `alice_chooses_card` memo we defined above, with $\\beta=3$. Importantly, Bob doesn't _know_ what Alice's card is: internally, memo models Bob's uncertainty over Alice's choice.\n",
    "\n",
    "Finally, we model Bob's choice as avoiding Alice's choice (`wpp=E[~(c == alice.c)]`). Notice that we need the expected value because Bob doesn't know `alice.c`. Finally, we compute a probability distribution over Bob's card choices as before (`E[bob.c == c]`)."
   ]
  },
  {
   "cell_type": "code",
   "execution_count": 38,
   "id": "21c3c3a7-5672-4f7c-a485-56f57ca14f28",
   "metadata": {},
   "outputs": [
    {
     "data": {
      "text/plain": [
       "Array([0.49882218, 0.47634292, 0.02483489], dtype=float32)"
      ]
     },
     "execution_count": 38,
     "metadata": {},
     "output_type": "execute_result"
    }
   ],
   "source": [
    "@memo\n",
    "def bob_chooses_card[c: cards]():\n",
    "    cast: [alice, bob]\n",
    "    bob: thinks[  # Bob's mental model of Alice\n",
    "        alice: chooses(\n",
    "            c in cards,\n",
    "            wpp=alice_chooses_card[c is self.c](3.0)  # reference previous memo\n",
    "        )\n",
    "    ]\n",
    "\n",
    "    # Bob avoids Alice's card\n",
    "    bob: chooses(c in cards, wpp=E[~(c == alice.c)])\n",
    "    return E[bob.c == c]\n",
    "bob_chooses_card()"
   ]
  },
  {
   "cell_type": "markdown",
   "id": "618c2904-0b4c-4a24-8884-1ccc4b654910",
   "metadata": {},
   "source": [
    "Here is the result we expect: Bob is roughly ambivalent between cards 1 and 2, but avoids card 3.\n",
    "\n",
    "Let us finish this section by visualizing the full matrix of possible game outcomes."
   ]
  },
  {
   "cell_type": "code",
   "execution_count": 46,
   "id": "44d225bb-50fe-4959-ab14-c17286a5fc99",
   "metadata": {},
   "outputs": [
    {
     "data": {
      "image/png": "[encoded data removed]",
      "text/plain": [
       "<Figure size 640x480 with 1 Axes>"
      ]
     },
     "metadata": {},
     "output_type": "display_data"
    }
   ],
   "source": [
    "@memo\n",
    "def all_outcomes[a: cards, b: cards]():\n",
    "    cast: [alice, bob]\n",
    "    alice: chooses(c in cards, wpp=alice_chooses_card[c is self.c](3.0))\n",
    "    bob: chooses(c in cards, wpp=bob_chooses_card[c is self.c]())\n",
    "    return E[alice.c == a and bob.c == b]\n",
    "\n",
    "from matplotlib import pyplot as plt\n",
    "plt.imshow(all_outcomes())\n",
    "plt.xlabel('Alice choice')\n",
    "plt.ylabel('Bob choice')\n",
    "None"
   ]
  },
  {
   "cell_type": "markdown",
   "id": "eb2e6004-68da-49aa-8460-a5536add2ab2",
   "metadata": {
    "jp-MarkdownHeadingCollapsed": true
   },
   "source": [
    "## Scalar implicature"
   ]
  },
  {
   "cell_type": "markdown",
   "id": "de2421d1-740b-46e8-bff8-9898e5268a66",
   "metadata": {
    "jp-MarkdownHeadingCollapsed": true
   },
   "source": [
    "## Fitting parameters"
   ]
  },
  {
   "cell_type": "code",
   "execution_count": 5,
   "id": "2574f678-e020-412c-aeec-11790f9895b1",
   "metadata": {},
   "outputs": [
    {
     "name": "stdout",
     "output_type": "stream",
     "text": [
      "[[1.         0.         0.         0.        ]\n",
      " [0.         0.44444445 0.44444445 0.11111111]\n",
      " [0.         0.         0.         1.        ]]\n"
     ]
    }
   ],
   "source": [
    "N = [0, 1, 2, 3]  # number of nice people\n",
    "U = [0, 1, 2]     # utterance: {none, some, all} of the people are nice\n",
    "\n",
    "@jax.jit\n",
    "def meaning(n, u):\n",
    "    return np.array([\n",
    "        n == 0,  # none\n",
    "        n > 0,   # some\n",
    "        n == 3   # all\n",
    "    ])[u]\n",
    "\n",
    "@memo\n",
    "def scalar():\n",
    "    cast: [speaker, listener]\n",
    "    forall: n in N\n",
    "    forall: u in U\n",
    "\n",
    "    listener: thinks[\n",
    "        speaker: given(n in N, wpp=1),\n",
    "        speaker: chooses(u in U, wpp=imagine[\n",
    "            listener: knows(self.u),\n",
    "            listener: chooses(n in N, wpp=meaning(n, u)),\n",
    "            E[listener.n == self.n]\n",
    "        ])\n",
    "    ]\n",
    "    listener: observes [speaker.u] is self.u\n",
    "    listener: chooses(n in N, wpp=E[speaker.n == n])\n",
    "\n",
    "    return E[listener.n == n]\n",
    "\n",
    "print(scalar())"
   ]
  },
  {
   "cell_type": "code",
   "execution_count": 6,
   "id": "59d82d31-a853-47c7-bdc3-dbdecb9c466e",
   "metadata": {},
   "outputs": [
    {
     "data": {
      "text/plain": [
       "<matplotlib.legend.Legend at 0x124544080>"
      ]
     },
     "execution_count": 6,
     "metadata": {},
     "output_type": "execute_result"
    },
    {
     "data": {
      "image/png": "[encoded data removed]",
      "text/plain": [
       "<Figure size 640x480 with 1 Axes>"
      ]
     },
     "metadata": {},
     "output_type": "display_data"
    }
   ],
   "source": [
    "from matplotlib import pyplot as plt\n",
    "plt.plot(scalar().T, label=['none', 'some', 'all'])\n",
    "plt.xlabel('Number of nice people')\n",
    "plt.ylabel('Posterior probability')\n",
    "plt.legend()"
   ]
  },
  {
   "cell_type": "code",
   "execution_count": 7,
   "id": "b089a5d1-5a03-4ea5-bf47-5a8c621768cb",
   "metadata": {},
   "outputs": [
    {
     "data": {
      "text/plain": [
       "Array([[2, 3, 4],\n",
       "       [3, 4, 5],\n",
       "       [4, 5, 6]], dtype=int32)"
      ]
     },
     "execution_count": 7,
     "metadata": {},
     "output_type": "execute_result"
    }
   ],
   "source": [
    "@memo\n",
    "def f():\n",
    "    cast: []\n",
    "    forall: a in cards\n",
    "    forall: b in cards\n",
    "    return a + b\n",
    "f()"
   ]
  },
  {
   "cell_type": "code",
   "execution_count": null,
   "id": "66ef9a3c-4699-4236-8a35-b8472082be3a",
   "metadata": {},
   "outputs": [],
   "source": []
  }
 ],
 "metadata": {
  "kernelspec": {
   "display_name": "Python 3 (ipykernel)",
   "language": "python",
   "name": "python3"
  },
  "language_info": {
   "codemirror_mode": {
    "name": "ipython",
    "version": 3
   },
   "file_extension": ".py",
   "mimetype": "text/x-python",
   "name": "python",
   "nbconvert_exporter": "python",
   "pygments_lexer": "ipython3",
   "version": "3.12.2"
  }
 },
 "nbformat": 4,
 "nbformat_minor": 5
}
